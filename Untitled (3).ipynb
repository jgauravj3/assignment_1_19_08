{
 "cells": [
  {
   "cell_type": "markdown",
   "id": "b652eea6-57de-425a-a8d9-eb096d1c9fcf",
   "metadata": {},
   "source": [
    "## \n",
    "Declare two variables, `x` and `y`, and assign them integer values. Swap the\n",
    "values of these variables without using any temporary variable."
   ]
  },
  {
   "cell_type": "code",
   "execution_count": 5,
   "id": "db7b4188-e9fb-4b7e-ad16-7e856b6da5c8",
   "metadata": {},
   "outputs": [
    {
     "name": "stdout",
     "output_type": "stream",
     "text": [
      "value of x is 7\n",
      "value of y is 9\n"
     ]
    }
   ],
   "source": [
    "x=9\n",
    "y=7 \n",
    "\n",
    "print(\"value of x is\", y)\n",
    "print(\"value of y is\" ,x)"
   ]
  },
  {
   "cell_type": "markdown",
   "id": "6548a563-b7d0-4725-8a9a-0970c7a7911a",
   "metadata": {},
   "source": [
    "##\n",
    "Create a program that calculates the area of a rectangle. Take the length and\n",
    "width as inputs from the user and store them in variables. Calculate and\n",
    "display the area.\n"
   ]
  },
  {
   "cell_type": "code",
   "execution_count": 8,
   "id": "0829a0ad-6d6a-4543-9b3b-a033dd600102",
   "metadata": {},
   "outputs": [
    {
     "name": "stdin",
     "output_type": "stream",
     "text": [
      "enter the length 3\n",
      "enter the breadth 4\n"
     ]
    },
    {
     "name": "stdout",
     "output_type": "stream",
     "text": [
      "the area of the rectangle is 12\n"
     ]
    }
   ],
   "source": [
    "length=int(input(\"enter the length\"))\n",
    "breadth=int(input(\"enter the breadth\"))\n",
    "print (\"the area of the rectangle is {}\".format(length*breadth))\n"
   ]
  },
  {
   "cell_type": "markdown",
   "id": "16fd664b-225d-4a57-9ad4-5354f08e050c",
   "metadata": {},
   "source": [
    "##\n",
    "Write a Python program that converts temperatures from Celsius to\n",
    "Fahrenheit. Take the temperature in Celsius as input, store it in a variable,\n",
    "convert it to Fahrenheit, and display the result.Write a Python program that converts temperatures from Celsius to\n",
    "Fahrenheit. Take the temperature in Celsius as input, store it in a variable,\n",
    "convert it to Fahrenheit, and display the result.\n"
   ]
  },
  {
   "cell_type": "code",
   "execution_count": 9,
   "id": "ea1309a6-3b19-45f8-b959-aa1f036d7f9c",
   "metadata": {},
   "outputs": [
    {
     "name": "stdin",
     "output_type": "stream",
     "text": [
      "enter the temperature in celcius 32\n"
     ]
    },
    {
     "name": "stdout",
     "output_type": "stream",
     "text": [
      "the temperature in farenheit is 89.6 \n"
     ]
    }
   ],
   "source": [
    "temperature_celcius=int(input(\"enter the temperature in celcius\"))\n",
    "\n",
    "print(\"the temperature in farenheit is {} \".format((temperature_celcius*1.8)+32))"
   ]
  },
  {
   "cell_type": "markdown",
   "id": "a620ae9b-cc3e-4558-a3d8-85ebf4750b21",
   "metadata": {},
   "source": [
    "## \n",
    "Write a Python program that takes a string as input and prints the length of\n",
    "the string."
   ]
  },
  {
   "cell_type": "code",
   "execution_count": 24,
   "id": "4c2e3aed-5796-442f-89dd-ec7ebb9dd3e3",
   "metadata": {},
   "outputs": [
    {
     "name": "stdout",
     "output_type": "stream",
     "text": [
      "9\n"
     ]
    }
   ],
   "source": [
    "str = \"chocolate\"\n",
    "print(len(str))\n"
   ]
  },
  {
   "cell_type": "markdown",
   "id": "c9f38f43-0280-4039-aae3-4329d4e7067c",
   "metadata": {},
   "source": [
    "##\n",
    "Create a program that takes a sentence from the user and counts the number\n",
    "of vowels (a, e, i, o, u) in the string.\n"
   ]
  },
  {
   "cell_type": "code",
   "execution_count": 37,
   "id": "35bba46b-5968-4325-bbf9-0285faa9089d",
   "metadata": {},
   "outputs": [
    {
     "name": "stdin",
     "output_type": "stream",
     "text": [
      "enter the sentence AEUIOaeioujjgkhggsjhjshjhsjslh\n"
     ]
    },
    {
     "name": "stdout",
     "output_type": "stream",
     "text": [
      "the no of vowels is 10\n"
     ]
    }
   ],
   "source": [
    "sentence=input(\"enter the sentence\")\n",
    "a=(sentence.count('a'))\n",
    "e=(sentence.count('e'))\n",
    "i=(sentence.count('i'))\n",
    "o=(sentence.count('o'))\n",
    "u=(sentence.count('u'))\n",
    "A=(sentence.count('A'))\n",
    "E=(sentence.count('E'))\n",
    "I=(sentence.count('I'))\n",
    "O=(sentence.count('O'))\n",
    "U=(sentence.count('U'))\n",
    "\n",
    "print(\"the no of vowels is {}\".format(a+e+i+o+u+A+E+I+O+U))\n"
   ]
  },
  {
   "cell_type": "markdown",
   "id": "68f1ece7-35d1-427a-aa3a-3276cf1ec1f5",
   "metadata": {},
   "source": [
    "##\n",
    "Given a string, reverse the order of characters using string slicing and print\n",
    "the reversed string.\n"
   ]
  },
  {
   "cell_type": "code",
   "execution_count": 39,
   "id": "5eeed1af-1733-4390-939f-8888e40feac0",
   "metadata": {},
   "outputs": [
    {
     "name": "stdout",
     "output_type": "stream",
     "text": [
      "tnemngissA tsrif ruo si siht\n"
     ]
    }
   ],
   "source": [
    "a = \"this is our first Assignment\"\n",
    "print(a[::-1])\n"
   ]
  },
  {
   "cell_type": "markdown",
   "id": "6d14c8cb-6b0c-4fba-943c-4f2fb3120be3",
   "metadata": {},
   "source": [
    "##\n",
    "Create a program that takes a string as input and removes all the spaces from\n",
    "it. Print the modified string without spaces."
   ]
  },
  {
   "cell_type": "code",
   "execution_count": 7,
   "id": "ce931fbb-004b-4caf-b932-67bd7f4a3ca5",
   "metadata": {},
   "outputs": [
    {
     "name": "stdin",
     "output_type": "stream",
     "text": [
      "enter the string vbb dsvdab dvab\n"
     ]
    },
    {
     "name": "stdout",
     "output_type": "stream",
     "text": [
      "{'vbbdsvdabdvab'}\n"
     ]
    }
   ],
   "source": [
    "strings=str(input(\"enter the string\"))\n",
    "a=(strings.replace(' ',''))\n",
    "print({a})\n"
   ]
  },
  {
   "cell_type": "markdown",
   "id": "91bfff96-51f2-4632-8fcb-9b045c4b194a",
   "metadata": {},
   "source": [
    "##\n",
    "Write a program that takes a string as input and checks if it is a palindrome\n",
    "(reads the same forwards and backwards)."
   ]
  },
  {
   "cell_type": "code",
   "execution_count": 10,
   "id": "e92eea39-d548-4b69-b580-33d9e6771fcc",
   "metadata": {},
   "outputs": [
    {
     "name": "stdin",
     "output_type": "stream",
     "text": [
      "enter the word cggfehgughn fqbgeqbg\n"
     ]
    },
    {
     "name": "stdout",
     "output_type": "stream",
     "text": [
      "it is not a palindrome\n"
     ]
    }
   ],
   "source": [
    "s1=str(input(\"enter the word\"))\n",
    "\n",
    "if(1 == s1[::-1]):\n",
    "    print(\"it is a palindrome\")\n",
    "else:\n",
    "    print(\"it is not a palindrome\")"
   ]
  },
  {
   "cell_type": "code",
   "execution_count": null,
   "id": "5f9ea9f5-6e8d-413f-b869-8ed03332bd38",
   "metadata": {},
   "outputs": [],
   "source": []
  }
 ],
 "metadata": {
  "kernelspec": {
   "display_name": "Python 3 (ipykernel)",
   "language": "python",
   "name": "python3"
  },
  "language_info": {
   "codemirror_mode": {
    "name": "ipython",
    "version": 3
   },
   "file_extension": ".py",
   "mimetype": "text/x-python",
   "name": "python",
   "nbconvert_exporter": "python",
   "pygments_lexer": "ipython3",
   "version": "3.10.8"
  }
 },
 "nbformat": 4,
 "nbformat_minor": 5
}
